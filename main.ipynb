{
 "cells": [
  {
   "cell_type": "code",
   "execution_count": 1,
   "metadata": {},
   "outputs": [],
   "source": [
    "import pandas as pd\n",
    "import streamlit as st"
   ]
  },
  {
   "cell_type": "code",
   "execution_count": null,
   "metadata": {},
   "outputs": [],
   "source": [
    "df1 = [2,3,5,7,11,13,17,19,23,29]\n",
    "df1 = pd.DataFrame(df1, columns = [\"Primzahl\"])\n",
    "\n",
    "df2 = [\"22,5°C\",\"15,8°C\",\"29,2°C\",\"18,6C\",\"26,7°C\",\"10,9°C\",\"30,1°C\",\"23,4°C\",\"17,2°C\",\"20,3°C\"]\n",
    "df2 = pd.DataFrame(df2, columns = [\"Temperatur\"])\n",
    "\n",
    "df3 = [22.5,15.8,29.2,18.6,26.7,10.9,30.1,23.4,17.2,20.3]\n",
    "df3 = pd.DataFrame(df3, columns = \"Temperatur (in °C)\")\n",
    "\n",
    "df4 = [\"$1245.67\",\"$987.45\",\"$356.89\",\"$2200.32\",\"$150.20\",\"$743.91\",\"$512.50\",\"$1856.78\",\"$402.15\",\"$3000.00\"]\n",
    "df4 = pd.DataFrame(df4, columns = [\"Sales\"])\n",
    "\n",
    "df5 = [3.3,3.7,3.3,4.0,2.0,1.7,1.7,4.0,2.3,2.7]\n",
    "df5 = pd.DataFrame(df5, columns = [\"Schulnote\"])\n",
    "\n",
    "df6 = [\"08/25/2023\",\"11/03/2022\",\"06/18/2021\",\"01/10/2023\",\"04/30/2022\",\"09/15/2021\",\n",
    "\"03/08/2023\",\"12/05/2021\",\"05/28/2023\"]\n",
    "df6 = pd.DataFrame(df6, columns = [\"Order Date\"])\n",
    "\n",
    "df7 = [\"Hamburg\",\"München\",\"Berlin\",\"Köln\",\"Frankfurt\",\"Stuttgart\",\"Düsseldorf\",\"Leipzig\",\"Dresden\",\"Nürnberg\"]\n",
    "df7 = pd.DataFrame(df7, columns = [\"City\"])\n",
    "\n",
    "df8 = [1,0,0,1,1,0,1,1,1,0]\n",
    "df8 = pd.DataFrame(df8, columns = [\"Kauf bezahlt\"])\n",
    "\n",
    "df9 = [\"Ali Öztürk\",\"Sophia Nguyen\",\"David Müller\",\"Amina Al-Mansoori\",\n",
    "\"Lukas Patel\",\"Lea Kim\",\"Amir Kowalski\",\"Ebru Garcia\",\"Timo Meier\",\"Aisha Schmidt\"]\n",
    "df9 = pd.DataFrame(df9, columns = [\"Studentenname\"])\n",
    "\n",
    "df10 = [\"10:15\",\"14:30\",\"08:45\",\"16:20\",\"12:00\",\"18:00\",\"09:40\",\"11:55\",\"13:25\",\"15:10\"]\n",
    "df10 = pd.DataFrame(df10, columns = [\"Uhrzeit\"])"
   ]
  }
 ],
 "metadata": {
  "kernelspec": {
   "display_name": "Python 3",
   "language": "python",
   "name": "python3"
  },
  "language_info": {
   "codemirror_mode": {
    "name": "ipython",
    "version": 3
   },
   "file_extension": ".py",
   "mimetype": "text/x-python",
   "name": "python",
   "nbconvert_exporter": "python",
   "pygments_lexer": "ipython3",
   "version": "3.8.0"
  },
  "orig_nbformat": 4
 },
 "nbformat": 4,
 "nbformat_minor": 2
}
